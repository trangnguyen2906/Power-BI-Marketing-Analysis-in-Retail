{
 "cells": [
  {
   "cell_type": "markdown",
   "id": "3bb146a5",
   "metadata": {},
   "source": [
    "# Import Library"
   ]
  },
  {
   "cell_type": "code",
   "execution_count": 85,
   "id": "8a417d25",
   "metadata": {},
   "outputs": [
    {
     "name": "stderr",
     "output_type": "stream",
     "text": [
      "[nltk_data] Downloading package vader_lexicon to\n",
      "[nltk_data]     C:\\Users\\ADMIN\\AppData\\Roaming\\nltk_data...\n",
      "[nltk_data]   Package vader_lexicon is already up-to-date!\n"
     ]
    }
   ],
   "source": [
    "import pandas as pd\n",
    "import pyodbc # for connecting SQL Server\n",
    "import nltk # for transforming text\n",
    "nltk.download('vader_lexicon')  # Download the VADER lexicon for sentiment analysis\n",
    "from nltk.sentiment.vader import SentimentIntensityAnalyzer \n"
   ]
  },
  {
   "cell_type": "markdown",
   "id": "45d7bdb7",
   "metadata": {},
   "source": [
    "# Fetch Data from SQL server"
   ]
  },
  {
   "cell_type": "code",
   "execution_count": 86,
   "id": "49a3e046",
   "metadata": {},
   "outputs": [
    {
     "name": "stderr",
     "output_type": "stream",
     "text": [
      "C:\\Users\\ADMIN\\AppData\\Local\\Temp\\ipykernel_22820\\1711580277.py:14: UserWarning: pandas only supports SQLAlchemy connectable (engine/connection) or database string URI or sqlite3 DBAPI2 connection. Other DBAPI2 objects are not tested. Please consider using SQLAlchemy.\n",
      "  df = pd.read_sql(query, conn)\n"
     ]
    },
    {
     "data": {
      "text/html": [
       "<div>\n",
       "<style scoped>\n",
       "    .dataframe tbody tr th:only-of-type {\n",
       "        vertical-align: middle;\n",
       "    }\n",
       "\n",
       "    .dataframe tbody tr th {\n",
       "        vertical-align: top;\n",
       "    }\n",
       "\n",
       "    .dataframe thead th {\n",
       "        text-align: right;\n",
       "    }\n",
       "</style>\n",
       "<table border=\"1\" class=\"dataframe\">\n",
       "  <thead>\n",
       "    <tr style=\"text-align: right;\">\n",
       "      <th></th>\n",
       "      <th>ReviewID</th>\n",
       "      <th>CustomerID</th>\n",
       "      <th>ProductID</th>\n",
       "      <th>ReviewDate</th>\n",
       "      <th>Rating</th>\n",
       "      <th>ReviewText</th>\n",
       "    </tr>\n",
       "  </thead>\n",
       "  <tbody>\n",
       "    <tr>\n",
       "      <th>0</th>\n",
       "      <td>1</td>\n",
       "      <td>77</td>\n",
       "      <td>18</td>\n",
       "      <td>2023-12-23</td>\n",
       "      <td>3</td>\n",
       "      <td>Average  experience,  nothing  special.</td>\n",
       "    </tr>\n",
       "    <tr>\n",
       "      <th>1</th>\n",
       "      <td>2</td>\n",
       "      <td>80</td>\n",
       "      <td>19</td>\n",
       "      <td>2024-12-25</td>\n",
       "      <td>5</td>\n",
       "      <td>The  quality  is    top-notch.</td>\n",
       "    </tr>\n",
       "    <tr>\n",
       "      <th>2</th>\n",
       "      <td>3</td>\n",
       "      <td>50</td>\n",
       "      <td>13</td>\n",
       "      <td>2025-01-26</td>\n",
       "      <td>4</td>\n",
       "      <td>Five  stars  for  the  quick  delivery.</td>\n",
       "    </tr>\n",
       "    <tr>\n",
       "      <th>3</th>\n",
       "      <td>4</td>\n",
       "      <td>78</td>\n",
       "      <td>15</td>\n",
       "      <td>2025-04-21</td>\n",
       "      <td>3</td>\n",
       "      <td>Good  quality,  but  could  be  cheaper.</td>\n",
       "    </tr>\n",
       "    <tr>\n",
       "      <th>4</th>\n",
       "      <td>5</td>\n",
       "      <td>64</td>\n",
       "      <td>2</td>\n",
       "      <td>2023-07-16</td>\n",
       "      <td>3</td>\n",
       "      <td>Average  experience,  nothing  special.</td>\n",
       "    </tr>\n",
       "  </tbody>\n",
       "</table>\n",
       "</div>"
      ],
      "text/plain": [
       "   ReviewID  CustomerID  ProductID ReviewDate  Rating  \\\n",
       "0         1          77         18 2023-12-23       3   \n",
       "1         2          80         19 2024-12-25       5   \n",
       "2         3          50         13 2025-01-26       4   \n",
       "3         4          78         15 2025-04-21       3   \n",
       "4         5          64          2 2023-07-16       3   \n",
       "\n",
       "                                 ReviewText  \n",
       "0   Average  experience,  nothing  special.  \n",
       "1            The  quality  is    top-notch.  \n",
       "2   Five  stars  for  the  quick  delivery.  \n",
       "3  Good  quality,  but  could  be  cheaper.  \n",
       "4   Average  experience,  nothing  special.  "
      ]
     },
     "execution_count": 86,
     "metadata": {},
     "output_type": "execute_result"
    }
   ],
   "source": [
    "# Define a function to fetch data from SQL Server \n",
    "def fetch_data_SQL_server():\n",
    "    connection_string = (\n",
    "        \"Driver={SQL Server};\"\n",
    "        \"Server=localhost\\\\SQLEXPRESS;\"\n",
    "        \"Database=mkt_analysis;\"\n",
    "        \"Trusted_Connection=yes;\"\n",
    "    )\n",
    "    # Create a connection to the SQL Server database\n",
    "    conn = pyodbc.connect(connection_string)\n",
    "    # Define the SQL query to fetch data\n",
    "    query = \"SELECT * FROM mkt_analysis.dbo.customer_reviews\"\n",
    "    #Execute the query and fetch the data into a DataFrame\n",
    "    df = pd.read_sql(query, conn)\n",
    "    conn.close()  # Close the connection\n",
    "    return df\n",
    "df_customer_reviews = fetch_data_SQL_server()\n",
    "df_customer_reviews['ReviewDate'] = pd.to_datetime(df_customer_reviews['ReviewDate'], errors='coerce')  # Convert ReviewDate to datetime\n",
    "df_customer_reviews.head()\n"
   ]
  },
  {
   "cell_type": "markdown",
   "id": "3cf7c779",
   "metadata": {},
   "source": [
    "# Sentiment Analyzer"
   ]
  },
  {
   "cell_type": "code",
   "execution_count": 87,
   "id": "75507ef9",
   "metadata": {},
   "outputs": [
    {
     "data": {
      "text/plain": [
       "0.7579"
      ]
     },
     "execution_count": 87,
     "metadata": {},
     "output_type": "execute_result"
    }
   ],
   "source": [
    "analyzer = SentimentIntensityAnalyzer()\n",
    "analyzer.lexicon.update({ \"top-notch\": 3.0, \"five\": 4.5, \"Exceeded\": 4.0, \"Quick delivery\": 3.5})\n",
    "# Define a function to calculate sentiment score using VADER\n",
    "def sentiment_calculate(review):\n",
    "    #get the sentiment score for the reviews\n",
    "    score = analyzer.polarity_scores(review)\n",
    "    # Return the compound score\n",
    "    return score['compound']\n",
    "sentiment_calculate(\"Five stars for the quick delivery.\")  # Example usage"
   ]
  },
  {
   "cell_type": "code",
   "execution_count": 88,
   "id": "217dd7df",
   "metadata": {},
   "outputs": [],
   "source": [
    "# Define a function to categorize sentiment based on both the sentiment score and rating score\n",
    "def categorize_sentiment(score, rating):\n",
    "    if score > 0.05:  # Positive sentiment score\n",
    "        if rating >= 4:\n",
    "            return 'Positive'  # High rating score and positive sentiment score \n",
    "        elif rating == 3:\n",
    "            return 'Conflicted Positive'  # Neutral rating score but positive sentiment score\n",
    "        else:\n",
    "            return 'Conflicted Negative'  # Low rating score but positive sentiment score\n",
    "    elif score < -0.05:  # Negative sentiment score\n",
    "        if rating <= 2:\n",
    "            return 'Negative'  # Low rating score and negative sentiment score\n",
    "        elif rating == 3:\n",
    "            return 'Conflicted Negative'  # Neutral rating score but negative sentiment score\n",
    "        else:\n",
    "            return 'Conflicted Positive'  # High rating score but negative sentiment score\n",
    "    else:  # Neutral sentiment score\n",
    "        if rating >= 4:\n",
    "            return 'Positive'  # High rating score with neutral sentiment score\n",
    "        elif rating <= 2:\n",
    "            return 'Negative'  # Low rating score with neutral sentiment score\n",
    "        else:\n",
    "            return 'Neutral'  # Neutral rating score and neutral sentiment score"
   ]
  },
  {
   "cell_type": "code",
   "execution_count": 89,
   "id": "51ec5433",
   "metadata": {},
   "outputs": [],
   "source": [
    "# Define a function to define / group sentiment buckets based on the sentiment score\n",
    "def sentiment_group(score):\n",
    "    if score >= 0.5:\n",
    "        return '0.5 to 1.0' # Strongly positive sentiment\n",
    "    if 0.0 <= score < 0.5:\n",
    "        return '0.0 to 0.49' # Positive sentiment\n",
    "    if -0.5 <= score < 0.0:\n",
    "        return '-0.49 to 0.0'  # Negative sentiment\n",
    "    if score < -0.5:\n",
    "        return '-1.0 to -0.5'  # Strongly negative sentiment"
   ]
  },
  {
   "cell_type": "code",
   "execution_count": null,
   "id": "9b447d93",
   "metadata": {},
   "outputs": [
    {
     "name": "stdout",
     "output_type": "stream",
     "text": [
      "   ReviewID  CustomerID  ProductID ReviewDate  Rating  \\\n",
      "0         1          77         18 2023-12-23       3   \n",
      "1         2          80         19 2024-12-25       5   \n",
      "2         3          50         13 2025-01-26       4   \n",
      "3         4          78         15 2025-04-21       3   \n",
      "4         5          64          2 2023-07-16       3   \n",
      "\n",
      "                                 ReviewText  SentimentScore  \\\n",
      "0   Average  experience,  nothing  special.         -0.3089   \n",
      "1            The  quality  is    top-notch.          0.0000   \n",
      "2   Five  stars  for  the  quick  delivery.          0.7579   \n",
      "3  Good  quality,  but  could  be  cheaper.          0.2382   \n",
      "4   Average  experience,  nothing  special.         -0.3089   \n",
      "\n",
      "     SentimentCategory SentimentGroup  \n",
      "0  Conflicted Negative   -0.49 to 0.0  \n",
      "1             Positive    0.0 to 0.49  \n",
      "2             Positive     0.5 to 1.0  \n",
      "3  Conflicted Positive    0.0 to 0.49  \n",
      "4  Conflicted Negative   -0.49 to 0.0  \n"
     ]
    }
   ],
   "source": [
    "# Apply sentiment analysis to calculate sentiment scores for each review\n",
    "df_customer_reviews['SentimentScore'] = df_customer_reviews['ReviewText'].apply(sentiment_calculate)\n",
    "\n",
    "# Apply sentiment categorization using both text and rating\n",
    "df_customer_reviews['SentimentCategory'] = df_customer_reviews.apply(\n",
    "    lambda row: categorize_sentiment(row['SentimentScore'], row['Rating']), axis=1)\n",
    "\n",
    "# Apply sentiment bucketing to categorize scores into defined ranges\n",
    "df_customer_reviews['SentimentGroup'] = df_customer_reviews['SentimentScore'].apply(sentiment_group)\n",
    "\n",
    "# Display the first few rows of the DataFrame with sentiment scores, categories, and buckets\n",
    "print(df_customer_reviews.head())\n",
    "\n",
    "# Convert the DataFrame to a CSV file\n",
    "df_customer_reviews.to_csv('fact_customer_reviews_sentiment.csv', index=False)"
   ]
  },
  {
   "cell_type": "code",
   "execution_count": null,
   "id": "3b382a94",
   "metadata": {},
   "outputs": [],
   "source": []
  }
 ],
 "metadata": {
  "kernelspec": {
   "display_name": ".venv",
   "language": "python",
   "name": "python3"
  },
  "language_info": {
   "codemirror_mode": {
    "name": "ipython",
    "version": 3
   },
   "file_extension": ".py",
   "mimetype": "text/x-python",
   "name": "python",
   "nbconvert_exporter": "python",
   "pygments_lexer": "ipython3",
   "version": "3.13.5"
  }
 },
 "nbformat": 4,
 "nbformat_minor": 5
}
